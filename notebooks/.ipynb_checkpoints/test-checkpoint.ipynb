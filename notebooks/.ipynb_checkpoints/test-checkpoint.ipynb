{
 "cells": [
  {
   "cell_type": "code",
   "execution_count": 1,
   "metadata": {},
   "outputs": [],
   "source": [
    "from roar import *"
   ]
  },
  {
   "cell_type": "code",
   "execution_count": null,
   "metadata": {},
   "outputs": [
    {
     "name": "stdout",
     "output_type": "stream",
     "text": [
      "Files already downloaded and verified\n",
      "Files already downloaded and verified\n"
     ]
    },
    {
     "name": "stderr",
     "output_type": "stream",
     "text": [
      "\r",
      "  0%|          | 0/20 [00:00<?, ?it/s]"
     ]
    },
    {
     "name": "stdout",
     "output_type": "stream",
     "text": [
      "torch.Size([256, 10])\n",
      "torch.Size([256])\n",
      "torch.Size([256, 10])\n",
      "torch.Size([256])\n",
      "torch.Size([256, 10])\n",
      "torch.Size([256])\n",
      "torch.Size([256, 10])\n",
      "torch.Size([256])\n",
      "torch.Size([256, 10])\n",
      "torch.Size([256])\n",
      "torch.Size([256, 10])\n",
      "torch.Size([256])\n",
      "torch.Size([256, 10])\n",
      "torch.Size([256])\n",
      "torch.Size([256, 10])\n",
      "torch.Size([256])\n",
      "torch.Size([256, 10])\n",
      "torch.Size([256])\n",
      "torch.Size([256, 10])\n",
      "torch.Size([256])\n",
      "torch.Size([256, 10])\n",
      "torch.Size([256])\n",
      "torch.Size([256, 10])\n",
      "torch.Size([256])\n",
      "torch.Size([256, 10])\n",
      "torch.Size([256])\n",
      "torch.Size([256, 10])\n",
      "torch.Size([256])\n",
      "torch.Size([256, 10])\n",
      "torch.Size([256])\n",
      "torch.Size([256, 10])\n",
      "torch.Size([256])\n",
      "torch.Size([256, 10])\n",
      "torch.Size([256])\n",
      "torch.Size([256, 10])\n",
      "torch.Size([256])\n",
      "torch.Size([256, 10])\n",
      "torch.Size([256])\n",
      "torch.Size([256, 10])\n",
      "torch.Size([256])\n",
      "torch.Size([256, 10])\n",
      "torch.Size([256])\n",
      "torch.Size([256, 10])\n",
      "torch.Size([256])\n",
      "torch.Size([256, 10])\n",
      "torch.Size([256])\n",
      "torch.Size([256, 10])\n",
      "torch.Size([256])\n",
      "torch.Size([256, 10])\n",
      "torch.Size([256])\n",
      "torch.Size([256, 10])\n",
      "torch.Size([256])\n",
      "torch.Size([256, 10])\n",
      "torch.Size([256])\n",
      "torch.Size([256, 10])\n",
      "torch.Size([256])\n",
      "torch.Size([256, 10])\n",
      "torch.Size([256])\n",
      "torch.Size([256, 10])\n",
      "torch.Size([256])\n"
     ]
    }
   ],
   "source": [
    "device = torch.device(\n",
    "    \"cuda\" if torch.cuda.is_available() else \"cpu\"\n",
    ")\n",
    "\n",
    "\n",
    "data_configs = {'dataset' : ROARcifar10,\n",
    "                'n_channels': 3,\n",
    "                'n_classes': 10,\n",
    "                'width': 32,\n",
    "                'height': 32,\n",
    "                'transforms': transforms.ToTensor(),\n",
    "               }\n",
    "\n",
    "\n",
    "roar_configs = { 'xai_methods': [Saliency()],\n",
    "                 'distributed': False,\n",
    "                 'degradation_steps': 2,\n",
    "                 'runs': 1\n",
    "               }\n",
    "\n",
    "model_configs = {'model': ResNet9\n",
    "}\n",
    "\n",
    "train_configs = {\n",
    "                'criterion': nn.CrossEntropyLoss,\n",
    "                'lr_scaler': 1.5,\n",
    "                'lr_scaler_end_fraction': 0.1,\n",
    "                'epochs': 20,\n",
    "                'warmup_fraction' : 5,\n",
    "                'ema_ep': 2,\n",
    "                'batch_size': 256,\n",
    "                'runs': 1\n",
    "}\n",
    "\n",
    "results_dict = {}\n",
    "\n",
    "for xai_method in roar_configs['xai_methods']:\n",
    "    results_dict[xai_method.get_name()] = eval_roar(xai_method,\n",
    "                                              data_configs,\n",
    "                                              roar_configs,\n",
    "                                              model_configs,\n",
    "                                              train_configs,\n",
    "                                              device)"
   ]
  }
 ],
 "metadata": {
  "kernelspec": {
   "display_name": "Python 3",
   "language": "python",
   "name": "python3"
  },
  "language_info": {
   "codemirror_mode": {
    "name": "ipython",
    "version": 3
   },
   "file_extension": ".py",
   "mimetype": "text/x-python",
   "name": "python",
   "nbconvert_exporter": "python",
   "pygments_lexer": "ipython3",
   "version": "3.6.7"
  }
 },
 "nbformat": 4,
 "nbformat_minor": 1
}
